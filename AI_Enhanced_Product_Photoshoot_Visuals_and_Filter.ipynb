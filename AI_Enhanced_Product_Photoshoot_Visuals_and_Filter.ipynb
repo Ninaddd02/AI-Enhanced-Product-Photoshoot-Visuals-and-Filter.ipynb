{
  "nbformat": 4,
  "nbformat_minor": 0,
  "metadata": {
    "colab": {
      "provenance": []
    },
    "kernelspec": {
      "name": "python3",
      "display_name": "Python 3"
    },
    "language_info": {
      "name": "python"
    }
  },
  "cells": [
    {
      "cell_type": "code",
      "execution_count": null,
      "metadata": {
        "id": "xWnmrpKyagJD"
      },
      "outputs": [],
      "source": [
        "!pip install keras_cv"
      ]
    },
    {
      "cell_type": "code",
      "source": [
        "import tensorflow as tf\n",
        "from keras_cv.models import StableDiffusion\n",
        "import matplotlib.pyplot as plt\n",
        "import numpy as np"
      ],
      "metadata": {
        "id": "uvd_q6cEaqUc"
      },
      "execution_count": null,
      "outputs": []
    },
    {
      "cell_type": "code",
      "source": [
        
        "model_diffusion = StableDiffusion(img_width=512, img_height=512)"
      ],
      "metadata": {
        "id": "p5VZKLenatgy"
      },
      "execution_count": null,
      "outputs": []
    },
    {
      "cell_type": "code",
      "source": [
        
        "model_classification = tf.keras.applications.MobileNetV2(weights='imagenet')"
      ],
      "metadata": {
        "id": "5cExlVYwaw_c"
      },
      "execution_count": null,
      "outputs": []
    },
    {
      "cell_type": "code",
      "source": [
        "def generate_images(prompt, batch_size=3):\n",
        
        "    images = model_diffusion.text_to_image(prompt, batch_size=batch_size)\n",
        "    return images"
      ],
      "metadata": {
        "id": "_rLTtj1Na1F6"
      },
      "execution_count": null,
      "outputs": []
    },
    {
      "cell_type": "code",
      "source": [
        "def plot_images(images):\n",
        "    # Plot the generated images\n",
        "    plt.figure(figsize=(20, 20))\n",
        "    for i, image in enumerate(images):\n",
        "        ax = plt.subplot(1, len(images), i + 1)\n",
        "        plt.imshow(image)\n",
        "        plt.axis(\"off\")\n",
        "    plt.show()"
      ],
      "metadata": {
        "id": "lXlvJfAZa6Y5"
      },
      "execution_count": null,
      "outputs": []
    },
    {
      "cell_type": "code",
      "source": [
        "def preprocess_images(images):\n",
           
        "    resized_images = [tf.image.resize(img, (224, 224)) for img in images]\n",
          
        "    preprocessed_images = [tf.keras.applications.mobilenet_v2.preprocess_input(img) for img in resized_images]\n",
        "    preprocessed_images = np.array(preprocessed_images)\n",
        "    return preprocessed_images"
      ],
      "metadata": {
        "id": "J98Qj7QUa-NE"
      },
      "execution_count": null,
      "outputs": []
    },
    {
      "cell_type": "code",
      "source": [
        "def classify_images(images, model):\n",
        
        "    preprocessed_images = preprocess_images(images)\n",
        "\n",
        "   
        "    predictions = model.predict(preprocessed_images)\n",
        "\n",
            
        "    decoded_predictions = tf.keras.applications.mobilenet_v2.decode_predictions(predictions)\n",
        "\n",
        "    return decoded_predictions"
      ],
      "metadata": {
        "id": "BzsJd5QFbBPT"
      },
      "execution_count": null,
      "outputs": []
    },
    {
      "cell_type": "code",
      "source": [
        "def filter_non_relevant_images(images, model):\n",
        "\n",
        "    relevant_images = []\n",
        "    for image in images:\n",
        
        "        preprocessed_image = preprocess_images([image])\n",
        "        prediction = model.predict(preprocessed_image)\n",
        "\n",
       
        "        if prediction[0][0] > 0.5:\n",
        "            relevant_images.append(image)\n",
        "\n",
        "    return relevant_images"
      ],
      "metadata": {
        "id": "4UcP6PbQbDto"
      },
      "execution_count": null,
      "outputs": []
    },
    {
      "cell_type": "code",
      "source": [
        
        "prompt = \"HeadPhones\"\n",
        "batch_size = 3"
      ],
      "metadata": {
        "id": "-963BgmkbGZS"
      },
      "execution_count": null,
      "outputs": []
    },
    {
      "cell_type": "code",
      "source": [
        
        "generated_images = generate_images(prompt, batch_size=batch_size)\n",
        "relevant_images = filter_non_relevant_images(generated_images, model_classification)\n",
        "plot_images(generated_images)"
      ],
      "metadata": {
        "id": "yH9UiHvUbKUu"
      },
      "execution_count": null,
      "outputs": []
    },
    {
      "cell_type": "code",
      "source": [
        
        "classifications = classify_images(generated_images, model_classification)"
      ],
      "metadata": {
        "id": "6HWF9uV7ca0s"
      },
      "execution_count": null,
      "outputs": []
    },
    {
      "cell_type": "code",
      "source": [
        
        "for i, img_class in enumerate(classifications):\n",
        "    print(f\"Image {i + 1} classification:\")\n",
        "    for j, (imagenet_id, label, score) in enumerate(img_class):\n",
        "        print(f\"{j + 1}: {label} ({score:.2f})\")\n",
        "    print()"
      ],
      "metadata": {
        "id": "ipyTxrZwce9u"
      },
      "execution_count": null,
      "outputs": []
    },
    {
      "cell_type": "code",
      "source": [],
      "metadata": {
        "id": "eOuPFH9DckOB"
      },
      "execution_count": null,
      "outputs": []
    }
  ]
}
